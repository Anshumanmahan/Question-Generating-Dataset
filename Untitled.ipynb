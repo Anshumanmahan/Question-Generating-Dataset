{
 "cells": [
  {
   "cell_type": "code",
   "execution_count": 1,
   "id": "571d58cc",
   "metadata": {},
   "outputs": [],
   "source": [
    "import pandas as pd"
   ]
  },
  {
   "cell_type": "code",
   "execution_count": 32,
   "id": "2e99359a",
   "metadata": {},
   "outputs": [],
   "source": [
    "df = pd.read_csv(\"Covid.csv\")"
   ]
  },
  {
   "cell_type": "code",
   "execution_count": 34,
   "id": "95c89d7b",
   "metadata": {},
   "outputs": [
    {
     "data": {
      "text/html": [
       "<div>\n",
       "<style scoped>\n",
       "    .dataframe tbody tr th:only-of-type {\n",
       "        vertical-align: middle;\n",
       "    }\n",
       "\n",
       "    .dataframe tbody tr th {\n",
       "        vertical-align: top;\n",
       "    }\n",
       "\n",
       "    .dataframe thead th {\n",
       "        text-align: right;\n",
       "    }\n",
       "</style>\n",
       "<table border=\"1\" class=\"dataframe\">\n",
       "  <thead>\n",
       "    <tr style=\"text-align: right;\">\n",
       "      <th></th>\n",
       "      <th>LOCATION_ID</th>\n",
       "      <th>COVID_COUNT</th>\n",
       "      <th>COVID_DEATHS</th>\n",
       "      <th>COVID_TEST</th>\n",
       "      <th>COUNTY_NAME</th>\n",
       "    </tr>\n",
       "  </thead>\n",
       "  <tbody>\n",
       "    <tr>\n",
       "      <th>0</th>\n",
       "      <td>18001</td>\n",
       "      <td>5982</td>\n",
       "      <td>93</td>\n",
       "      <td>19244</td>\n",
       "      <td>Adams</td>\n",
       "    </tr>\n",
       "    <tr>\n",
       "      <th>1</th>\n",
       "      <td>18003</td>\n",
       "      <td>76699</td>\n",
       "      <td>955</td>\n",
       "      <td>269458</td>\n",
       "      <td>Allen</td>\n",
       "    </tr>\n",
       "    <tr>\n",
       "      <th>2</th>\n",
       "      <td>18005</td>\n",
       "      <td>14879</td>\n",
       "      <td>201</td>\n",
       "      <td>60108</td>\n",
       "      <td>Bartholomew</td>\n",
       "    </tr>\n",
       "    <tr>\n",
       "      <th>3</th>\n",
       "      <td>18007</td>\n",
       "      <td>1917</td>\n",
       "      <td>20</td>\n",
       "      <td>6721</td>\n",
       "      <td>Benton</td>\n",
       "    </tr>\n",
       "    <tr>\n",
       "      <th>4</th>\n",
       "      <td>18009</td>\n",
       "      <td>2447</td>\n",
       "      <td>49</td>\n",
       "      <td>8280</td>\n",
       "      <td>Blackford</td>\n",
       "    </tr>\n",
       "    <tr>\n",
       "      <th>...</th>\n",
       "      <td>...</td>\n",
       "      <td>...</td>\n",
       "      <td>...</td>\n",
       "      <td>...</td>\n",
       "      <td>...</td>\n",
       "    </tr>\n",
       "    <tr>\n",
       "      <th>87</th>\n",
       "      <td>18175</td>\n",
       "      <td>4305</td>\n",
       "      <td>60</td>\n",
       "      <td>15679</td>\n",
       "      <td>Washington</td>\n",
       "    </tr>\n",
       "    <tr>\n",
       "      <th>88</th>\n",
       "      <td>18177</td>\n",
       "      <td>13641</td>\n",
       "      <td>283</td>\n",
       "      <td>47985</td>\n",
       "      <td>Wayne</td>\n",
       "    </tr>\n",
       "    <tr>\n",
       "      <th>89</th>\n",
       "      <td>18179</td>\n",
       "      <td>5362</td>\n",
       "      <td>118</td>\n",
       "      <td>17483</td>\n",
       "      <td>Wells</td>\n",
       "    </tr>\n",
       "    <tr>\n",
       "      <th>90</th>\n",
       "      <td>18181</td>\n",
       "      <td>5375</td>\n",
       "      <td>75</td>\n",
       "      <td>17890</td>\n",
       "      <td>White</td>\n",
       "    </tr>\n",
       "    <tr>\n",
       "      <th>91</th>\n",
       "      <td>18183</td>\n",
       "      <td>7450</td>\n",
       "      <td>68</td>\n",
       "      <td>22271</td>\n",
       "      <td>Whitley</td>\n",
       "    </tr>\n",
       "  </tbody>\n",
       "</table>\n",
       "<p>92 rows × 5 columns</p>\n",
       "</div>"
      ],
      "text/plain": [
       "    LOCATION_ID  COVID_COUNT  COVID_DEATHS  COVID_TEST  COUNTY_NAME\n",
       "0         18001         5982            93       19244        Adams\n",
       "1         18003        76699           955      269458        Allen\n",
       "2         18005        14879           201       60108  Bartholomew\n",
       "3         18007         1917            20        6721       Benton\n",
       "4         18009         2447            49        8280    Blackford\n",
       "..          ...          ...           ...         ...          ...\n",
       "87        18175         4305            60       15679   Washington\n",
       "88        18177        13641           283       47985        Wayne\n",
       "89        18179         5362           118       17483        Wells\n",
       "90        18181         5375            75       17890        White\n",
       "91        18183         7450            68       22271      Whitley\n",
       "\n",
       "[92 rows x 5 columns]"
      ]
     },
     "execution_count": 34,
     "metadata": {},
     "output_type": "execute_result"
    }
   ],
   "source": [
    "df"
   ]
  },
  {
   "cell_type": "code",
   "execution_count": 43,
   "id": "ff391ad1",
   "metadata": {},
   "outputs": [],
   "source": [
    "name = \"LOCATION_ID\"\n",
    "name1 = \"COVID_COUNT\"\n",
    "value = 18029\n",
    "value1 = 18095"
   ]
  },
  {
   "cell_type": "code",
   "execution_count": 50,
   "id": "39108a04",
   "metadata": {},
   "outputs": [],
   "source": [
    "x = df[df[name] == value][name1].values[0]"
   ]
  },
  {
   "cell_type": "code",
   "execution_count": 52,
   "id": "b9dd96c0",
   "metadata": {},
   "outputs": [],
   "source": [
    "x1 = df[df[name] == value1][name1].values[0]"
   ]
  },
  {
   "cell_type": "code",
   "execution_count": 53,
   "id": "e5e8e550",
   "metadata": {},
   "outputs": [
    {
     "data": {
      "text/plain": [
       "34324"
      ]
     },
     "execution_count": 53,
     "metadata": {},
     "output_type": "execute_result"
    }
   ],
   "source": [
    "x + x1"
   ]
  },
  {
   "cell_type": "code",
   "execution_count": 49,
   "id": "3c362826",
   "metadata": {},
   "outputs": [
    {
     "data": {
      "text/plain": [
       "array([34324])"
      ]
     },
     "execution_count": 49,
     "metadata": {},
     "output_type": "execute_result"
    }
   ],
   "source": [
    "x2"
   ]
  },
  {
   "cell_type": "code",
   "execution_count": 54,
   "id": "68733897",
   "metadata": {},
   "outputs": [],
   "source": [
    "df1 = pd.read_csv(\"testcol.csv\")"
   ]
  },
  {
   "cell_type": "code",
   "execution_count": 56,
   "id": "d90c2d2a",
   "metadata": {},
   "outputs": [],
   "source": [
    "col = df1.columns"
   ]
  },
  {
   "cell_type": "code",
   "execution_count": 57,
   "id": "e3449aad",
   "metadata": {},
   "outputs": [
    {
     "data": {
      "text/plain": [
       "Index(['_id', 'Column Name', 'Description'], dtype='object')"
      ]
     },
     "execution_count": 57,
     "metadata": {},
     "output_type": "execute_result"
    }
   ],
   "source": [
    "col\n"
   ]
  },
  {
   "cell_type": "code",
   "execution_count": 58,
   "id": "46750a24",
   "metadata": {},
   "outputs": [
    {
     "ename": "TypeError",
     "evalue": "'method' object is not subscriptable",
     "output_type": "error",
     "traceback": [
      "\u001b[0;31m---------------------------------------------------------------------------\u001b[0m",
      "\u001b[0;31mTypeError\u001b[0m                                 Traceback (most recent call last)",
      "\u001b[0;32m<ipython-input-58-cce39b4beb0b>\u001b[0m in \u001b[0;36m<module>\u001b[0;34m\u001b[0m\n\u001b[1;32m      1\u001b[0m \u001b[0;32mif\u001b[0m \u001b[0;34m'_id'\u001b[0m \u001b[0;32min\u001b[0m \u001b[0mcol\u001b[0m\u001b[0;34m:\u001b[0m\u001b[0;34m\u001b[0m\u001b[0;34m\u001b[0m\u001b[0m\n\u001b[0;32m----> 2\u001b[0;31m     \u001b[0mdf1\u001b[0m \u001b[0;34m=\u001b[0m \u001b[0mdf1\u001b[0m\u001b[0;34m.\u001b[0m\u001b[0mdrop\u001b[0m\u001b[0;34m[\u001b[0m\u001b[0;34m\"_id\"\u001b[0m\u001b[0;34m]\u001b[0m\u001b[0;34m\u001b[0m\u001b[0;34m\u001b[0m\u001b[0m\n\u001b[0m",
      "\u001b[0;31mTypeError\u001b[0m: 'method' object is not subscriptable"
     ]
    }
   ],
   "source": [
    "for i in col:\n",
    "    if i == '_id' :\n",
    "    "
   ]
  },
  {
   "cell_type": "code",
   "execution_count": 60,
   "id": "f9d9a128",
   "metadata": {},
   "outputs": [
    {
     "data": {
      "text/plain": [
       "19244     1\n",
       "12183     1\n",
       "15558     1\n",
       "26071     1\n",
       "8050      1\n",
       "         ..\n",
       "273671    1\n",
       "19700     1\n",
       "43032     1\n",
       "22555     1\n",
       "22271     1\n",
       "Name: COVID_TEST, Length: 92, dtype: int64"
      ]
     },
     "execution_count": 60,
     "metadata": {},
     "output_type": "execute_result"
    }
   ],
   "source": [
    "df[\"COVID_TEST\"].value_counts()"
   ]
  },
  {
   "cell_type": "code",
   "execution_count": 1,
   "id": "e61c6540",
   "metadata": {},
   "outputs": [
    {
     "name": "stdout",
     "output_type": "stream",
     "text": [
      "Collecting bs4\n",
      "  Downloading bs4-0.0.1.tar.gz (1.1 kB)\n",
      "Collecting beautifulsoup4\n",
      "  Downloading beautifulsoup4-4.10.0-py3-none-any.whl (97 kB)\n",
      "\u001b[K     |████████████████████████████████| 97 kB 2.4 MB/s eta 0:00:011\n",
      "\u001b[?25hCollecting soupsieve>1.2\n",
      "  Downloading soupsieve-2.3.1-py3-none-any.whl (37 kB)\n",
      "Building wheels for collected packages: bs4\n",
      "  Building wheel for bs4 (setup.py) ... \u001b[?25ldone\n",
      "\u001b[?25h  Created wheel for bs4: filename=bs4-0.0.1-py3-none-any.whl size=1272 sha256=574541d642257d1bcac143e54d1c9b5a5ee22ab7b1b01a9e583205c3e3e04329\n",
      "  Stored in directory: /geode2/home/u010/anshdixi/Carbonate/.cache/pip/wheels/0a/9e/ba/20e5bbc1afef3a491f0b3bb74d508f99403aabe76eda2167ca\n",
      "Successfully built bs4\n",
      "Installing collected packages: soupsieve, beautifulsoup4, bs4\n",
      "Successfully installed beautifulsoup4-4.10.0 bs4-0.0.1 soupsieve-2.3.1\n",
      "Note: you may need to restart the kernel to use updated packages.\n"
     ]
    }
   ],
   "source": [
    "pip install --user bs4"
   ]
  },
  {
   "cell_type": "code",
   "execution_count": 9,
   "id": "610cc816",
   "metadata": {},
   "outputs": [
    {
     "name": "stdout",
     "output_type": "stream",
     "text": [
      "\n",
      "\n",
      "\n",
      "\n",
      "\n"
     ]
    }
   ],
   "source": [
    "from bs4 import BeautifulSoup\n",
    "import urllib\n",
    "str='https://hub.mph.in.gov/dataset/maternal-health-claims-by-recipient-county' #my_url\n",
    "source = urllib.request.urlopen(str)\n",
    "soup = BeautifulSoup(source,'html.parser')\n",
    "for items in soup.find_all(class_=\"module-content\"):\n",
    "    data = '\\n'.join(['\\n'.join([item.text,item.find_next(\"p\").text]) for item in items.find_all(\"h4\")])\n",
    "    print(data)"
   ]
  },
  {
   "cell_type": "code",
   "execution_count": 22,
   "id": "dcc6250e",
   "metadata": {},
   "outputs": [],
   "source": [
    "x = soup.find_all(class_='module-content')\n",
    "for para in soup.find(\"h1\"):\n",
    "    header = para.get_text()\n",
    "\n",
    "for para in soup.find(\"p\"):\n",
    "    paragraph = para.get_text()"
   ]
  },
  {
   "cell_type": "code",
   "execution_count": 26,
   "id": "b02dd925",
   "metadata": {},
   "outputs": [],
   "source": [
    "header = header.strip()"
   ]
  },
  {
   "cell_type": "code",
   "execution_count": 27,
   "id": "5442b0e4",
   "metadata": {},
   "outputs": [],
   "source": [
    "paragraph = paragraph.strip()"
   ]
  },
  {
   "cell_type": "code",
   "execution_count": 30,
   "id": "5b12f163",
   "metadata": {},
   "outputs": [],
   "source": [
    "content = header + '\\n' +paragraph"
   ]
  },
  {
   "cell_type": "code",
   "execution_count": 31,
   "id": "1679ab2d",
   "metadata": {},
   "outputs": [],
   "source": [
    "text_file = open(\"s.txt\", \"wt\")\n",
    "n = text_file.write(content)\n",
    "text_file.close()"
   ]
  },
  {
   "cell_type": "code",
   "execution_count": null,
   "id": "1bff5d43",
   "metadata": {},
   "outputs": [],
   "source": []
  }
 ],
 "metadata": {
  "kernelspec": {
   "display_name": "Python 3",
   "language": "python",
   "name": "python3"
  },
  "language_info": {
   "codemirror_mode": {
    "name": "ipython",
    "version": 3
   },
   "file_extension": ".py",
   "mimetype": "text/x-python",
   "name": "python",
   "nbconvert_exporter": "python",
   "pygments_lexer": "ipython3",
   "version": "3.7.11"
  }
 },
 "nbformat": 4,
 "nbformat_minor": 5
}
